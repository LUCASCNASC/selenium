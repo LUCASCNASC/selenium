{
 "cells": [
  {
   "cell_type": "code",
   "execution_count": null,
   "id": "c69cb2e3",
   "metadata": {},
   "outputs": [],
   "source": [
    "!pip install selenium"
   ]
  },
  {
   "cell_type": "code",
   "execution_count": null,
   "id": "1cce3f52",
   "metadata": {},
   "outputs": [],
   "source": [
    "!pip show selenium"
   ]
  },
  {
   "cell_type": "code",
   "execution_count": null,
   "id": "119e1aea",
   "metadata": {},
   "outputs": [],
   "source": [
    "from selenium import webdriver"
   ]
  },
  {
   "cell_type": "code",
   "execution_count": null,
   "id": "43859745",
   "metadata": {},
   "outputs": [],
   "source": [
    "driver = webdriver.Chrome()"
   ]
  },
  {
   "cell_type": "code",
   "execution_count": null,
   "id": "0587f616",
   "metadata": {},
   "outputs": [],
   "source": [
    "driver = webdriver.Chrome()"
   ]
  },
  {
   "cell_type": "code",
   "execution_count": null,
   "id": "f056398f",
   "metadata": {},
   "outputs": [],
   "source": [
    "driver = webdriver.Chrome()"
   ]
  },
  {
   "cell_type": "code",
   "execution_count": null,
   "id": "df50abf2",
   "metadata": {},
   "outputs": [],
   "source": [
    "driver2 = webdriver.Firefox()"
   ]
  },
  {
   "cell_type": "code",
   "execution_count": null,
   "id": "bfd174cc",
   "metadata": {},
   "outputs": [],
   "source": [
    "from selenium import webdriver"
   ]
  },
  {
   "cell_type": "code",
   "execution_count": null,
   "id": "2dd8c0b5",
   "metadata": {},
   "outputs": [],
   "source": [
    "driver = webdriver.Chrome()"
   ]
  },
  {
   "cell_type": "code",
   "execution_count": null,
   "id": "49e4080e",
   "metadata": {},
   "outputs": [],
   "source": [
    "driver2 = webdriver.Firefox()"
   ]
  },
  {
   "cell_type": "code",
   "execution_count": null,
   "id": "96d977cd",
   "metadata": {},
   "outputs": [],
   "source": [
    "driver2.get('https://google.com.br')"
   ]
  },
  {
   "cell_type": "code",
   "execution_count": null,
   "id": "ac32f0db",
   "metadata": {},
   "outputs": [],
   "source": [
    "driver2.title"
   ]
  },
  {
   "cell_type": "code",
   "execution_count": null,
   "id": "6707a704",
   "metadata": {},
   "outputs": [],
   "source": [
    "driver2.current_url"
   ]
  },
  {
   "cell_type": "code",
   "execution_count": null,
   "id": "810b8be1",
   "metadata": {},
   "outputs": [],
   "source": [
    "driver2.fullscreen_window()"
   ]
  },
  {
   "cell_type": "code",
   "execution_count": null,
   "id": "3b1bb868",
   "metadata": {},
   "outputs": [],
   "source": [
    "driver2.get_window_rect()"
   ]
  },
  {
   "cell_type": "code",
   "execution_count": null,
   "id": "d8a0a93f",
   "metadata": {},
   "outputs": [],
   "source": [
    "driver2.set_window_rect(x=300, y=300)"
   ]
  },
  {
   "cell_type": "code",
   "execution_count": null,
   "id": "3a45fa65",
   "metadata": {},
   "outputs": [],
   "source": [
    "driver2.get('programadoraventureiro.com.br')"
   ]
  },
  {
   "cell_type": "code",
   "execution_count": null,
   "id": "e9dd9072",
   "metadata": {},
   "outputs": [],
   "source": [
    "driver2.get('https://programadoraventureiro.com')"
   ]
  },
  {
   "cell_type": "code",
   "execution_count": null,
   "id": "5fd235ee",
   "metadata": {},
   "outputs": [],
   "source": [
    "driver2.back()"
   ]
  },
  {
   "cell_type": "code",
   "execution_count": null,
   "id": "7a3be395",
   "metadata": {},
   "outputs": [],
   "source": [
    "driver2.forward()"
   ]
  },
  {
   "cell_type": "code",
   "execution_count": 3,
   "id": "85ae986c",
   "metadata": {},
   "outputs": [],
   "source": [
    "from selenium import webdriver"
   ]
  },
  {
   "cell_type": "code",
   "execution_count": 4,
   "id": "025c111f",
   "metadata": {},
   "outputs": [],
   "source": [
    "driver2 = webdriver.Firefox()"
   ]
  },
  {
   "cell_type": "code",
   "execution_count": 5,
   "id": "e3d5f76e",
   "metadata": {},
   "outputs": [],
   "source": [
    "driver2 = webdriver.Firefox()"
   ]
  },
  {
   "cell_type": "code",
   "execution_count": 7,
   "id": "b7947426",
   "metadata": {},
   "outputs": [],
   "source": [
    "driver2.get('http://localhost:8000/#/exemplo/1')"
   ]
  },
  {
   "cell_type": "code",
   "execution_count": 8,
   "id": "133084cb",
   "metadata": {},
   "outputs": [],
   "source": [
    "from selenium.webdriver.common.by import By"
   ]
  },
  {
   "cell_type": "code",
   "execution_count": 19,
   "id": "f793b1c4",
   "metadata": {},
   "outputs": [
    {
     "data": {
      "text/plain": [
       "'block w-full rounded-md border-0 py-1.5 px-4 h-10 text-gray-700 ring-1 ring-inset ring-gray-300 bg-white placeholder:text-gray-400 focus:ring-2 focus:ring-inset focus:ring-cyan-600 sm:text-sm sm:leading-6 styled-input'"
      ]
     },
     "execution_count": 19,
     "metadata": {},
     "output_type": "execute_result"
    }
   ],
   "source": [
    "driver2.find_element(By.ID, 'user').get_property('className')"
   ]
  },
  {
   "cell_type": "code",
   "execution_count": null,
   "id": "969ac619",
   "metadata": {},
   "outputs": [],
   "source": [
    "name = driver2.find_element(By.ID, 'user').get_property('value')\n",
    "profissao = driver2.find_element(By.ID, 'role').get_property('value')\n",
    "signo = driver2.find_element(By.ID, 'zodiac').get_property('value')\n",
    "genero = driver2.find_element(By.ID, 'gender').get_property('value')"
   ]
  }
 ],
 "metadata": {
  "kernelspec": {
   "display_name": "venv",
   "language": "python",
   "name": "python3"
  },
  "language_info": {
   "codemirror_mode": {
    "name": "ipython",
    "version": 3
   },
   "file_extension": ".py",
   "mimetype": "text/x-python",
   "name": "python",
   "nbconvert_exporter": "python",
   "pygments_lexer": "ipython3",
   "version": "3.11.5"
  }
 },
 "nbformat": 4,
 "nbformat_minor": 5
}
